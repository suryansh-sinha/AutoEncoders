{
  "nbformat": 4,
  "nbformat_minor": 0,
  "metadata": {
    "colab": {
      "provenance": []
    },
    "kernelspec": {
      "name": "python3",
      "display_name": "Python 3"
    },
    "language_info": {
      "name": "python"
    }
  },
  "cells": [
    {
      "cell_type": "markdown",
      "source": [
        "# Autoencoder Using ANN.\n",
        "\n",
        "We're using an artificial neural network in the encoder and decoder architectures.\n",
        "\n",
        "## Encoder\n",
        "The encoder has 1 input layer and 1 hidden layer having 256 nodes with ReLU as activation.\n",
        "\n",
        "## Latent Space Representation\n",
        "The latent space representation or code has 7 hidden nodes. So, we're compressing the 28*28 image into a 1D vector of size 7.\n",
        "\n",
        "## Decoder\n",
        "The decoder has 1 hidden layer having 256 nodes followed by ReLU activation. The output layer has 28*28 nodes followed by Sigmoid as activation."
      ],
      "metadata": {
        "id": "HBcMqCnJ8TUn"
      }
    },
    {
      "cell_type": "code",
      "execution_count": 27,
      "metadata": {
        "id": "iEquCR9Nx-qc"
      },
      "outputs": [],
      "source": [
        "import os\n",
        "import torch\n",
        "import numpy as np\n",
        "from torchvision import datasets\n",
        "from torch.utils.data import DataLoader\n",
        "from torchvision.transforms import v2 as transforms\n",
        "\n",
        "device = 'cuda' if torch.cuda.is_available() else 'cpu'\n",
        "\n",
        "# convert data to torch.FloatTensor\n",
        "transform = transforms.Compose([\n",
        "    transforms.PILToTensor(),\n",
        "    transforms.ToDtype(torch.float32, scale=True),\n",
        "])\n",
        "\n",
        "# load the training and test datasets\n",
        "train_data = datasets.MNIST(root='./data', train=True,\n",
        "                                   download=True, transform=transform)\n",
        "test_data = datasets.MNIST(root='./data', train=False,\n",
        "                                  download=True, transform=transform)\n",
        "\n",
        "num_workers = os.cpu_count()\n",
        "batch_size = 32\n",
        "\n",
        "train_loader = DataLoader(train_data, batch_size, shuffle=True, num_workers=num_workers)\n",
        "test_loader = DataLoader(test_data, batch_size, shuffle=False, num_workers=num_workers)"
      ]
    },
    {
      "cell_type": "code",
      "source": [
        "import matplotlib.pyplot as plt\n",
        "%matplotlib inline\n",
        "\n",
        "# obtain one batch of training images\n",
        "images, labels = next(iter(train_loader))\n",
        "images = images.numpy()\n",
        "print(images.shape)\n",
        "\n",
        "# get one image from the batch\n",
        "img = np.squeeze(images[0])\n",
        "fig = plt.figure(figsize = (5,5))\n",
        "ax = fig.add_subplot(111)\n",
        "ax.imshow(img, cmap='gray')"
      ],
      "metadata": {
        "colab": {
          "base_uri": "https://localhost:8080/",
          "height": 481
        },
        "id": "gQE0Jdm4zBon",
        "outputId": "c275f87a-94f6-4f1c-ced9-e85afa3c62e1"
      },
      "execution_count": 28,
      "outputs": [
        {
          "output_type": "stream",
          "name": "stdout",
          "text": [
            "(32, 1, 28, 28)\n"
          ]
        },
        {
          "output_type": "execute_result",
          "data": {
            "text/plain": [
              "<matplotlib.image.AxesImage at 0x7834076253c0>"
            ]
          },
          "metadata": {},
          "execution_count": 28
        },
        {
          "output_type": "display_data",
          "data": {
            "text/plain": [
              "<Figure size 500x500 with 1 Axes>"
            ],
            "image/png": "[encoded data removed]"
          },
          "metadata": {}
        }
      ]
    },
    {
      "cell_type": "code",
      "source": [
        "import torch.nn as nn\n",
        "\n",
        "class Autoencoder(nn.Module):\n",
        "  def __init__(self, encoding_dim):\n",
        "    super().__init__()\n",
        "\n",
        "    self.encoder = nn.Sequential(\n",
        "        nn.Flatten(),\n",
        "        nn.Linear(28*28, 256),\n",
        "        nn.ReLU(),\n",
        "        nn.Linear(256, encoding_dim),\n",
        "        nn.ReLU()\n",
        "    )\n",
        "\n",
        "    self.decoder = nn.Sequential(\n",
        "        nn.Linear(encoding_dim, 256),\n",
        "        nn.ReLU(),\n",
        "        nn.Linear(256, 28*28),\n",
        "        nn.Sigmoid()\n",
        "    )\n",
        "\n",
        "  def forward(self, x):\n",
        "    return self.decoder(self.encoder(x))\n",
        "\n",
        "encoding_dim = 7\n",
        "model = Autoencoder(encoding_dim).to(device)\n",
        "print(model)"
      ],
      "metadata": {
        "colab": {
          "base_uri": "https://localhost:8080/"
        },
        "id": "CvspBgrtzSJb",
        "outputId": "bd9b3fe2-de6a-49a2-d366-1d878a3062a6"
      },
      "execution_count": 29,
      "outputs": [
        {
          "output_type": "stream",
          "name": "stdout",
          "text": [
            "Autoencoder(\n",
            "  (encoder): Sequential(\n",
            "    (0): Flatten(start_dim=1, end_dim=-1)\n",
            "    (1): Linear(in_features=784, out_features=256, bias=True)\n",
            "    (2): ReLU()\n",
            "    (3): Linear(in_features=256, out_features=7, bias=True)\n",
            "    (4): ReLU()\n",
            "  )\n",
            "  (decoder): Sequential(\n",
            "    (0): Linear(in_features=7, out_features=256, bias=True)\n",
            "    (1): ReLU()\n",
            "    (2): Linear(in_features=256, out_features=784, bias=True)\n",
            "    (3): Sigmoid()\n",
            "  )\n",
            ")\n"
          ]
        }
      ]
    },
    {
      "cell_type": "code",
      "source": [
        "loss_fn = nn.MSELoss()\n",
        "\n",
        "optimizer = torch.optim.Adam(model.parameters(), lr=0.001)"
      ],
      "metadata": {
        "id": "KKMQrjvB0OhD"
      },
      "execution_count": 30,
      "outputs": []
    },
    {
      "cell_type": "code",
      "source": [
        "n_epochs = 20\n",
        "for epoch in range(1, n_epochs+1):\n",
        "  train_loss = 0\n",
        "\n",
        "  model.train()\n",
        "  for images, _ in train_loader:\n",
        "    current_batch_size = images.size(0)\n",
        "    optimizer.zero_grad()\n",
        "    outputs = model(images).view(current_batch_size, 1, 28, 28)\n",
        "    loss = loss_fn(outputs, images)\n",
        "    loss.backward()\n",
        "    optimizer.step()\n",
        "    train_loss += loss.item()\n",
        "\n",
        "  train_loss = train_loss / len(train_loader)\n",
        "  print('Epoch: {} | Training Loss: {:.4f}'.format(epoch, train_loss))"
      ],
      "metadata": {
        "colab": {
          "base_uri": "https://localhost:8080/"
        },
        "id": "UIs-uJbt0ZJ5",
        "outputId": "bd7d8312-7690-4cd2-e168-2dfd878690a0"
      },
      "execution_count": 32,
      "outputs": [
        {
          "output_type": "stream",
          "name": "stdout",
          "text": [
            "Epoch: 1 | Training Loss: 0.0415\n",
            "Epoch: 2 | Training Loss: 0.0340\n",
            "Epoch: 3 | Training Loss: 0.0325\n",
            "Epoch: 4 | Training Loss: 0.0317\n",
            "Epoch: 5 | Training Loss: 0.0311\n",
            "Epoch: 6 | Training Loss: 0.0307\n",
            "Epoch: 7 | Training Loss: 0.0303\n",
            "Epoch: 8 | Training Loss: 0.0301\n",
            "Epoch: 9 | Training Loss: 0.0298\n",
            "Epoch: 10 | Training Loss: 0.0296\n",
            "Epoch: 11 | Training Loss: 0.0294\n",
            "Epoch: 12 | Training Loss: 0.0292\n",
            "Epoch: 13 | Training Loss: 0.0291\n",
            "Epoch: 14 | Training Loss: 0.0289\n",
            "Epoch: 15 | Training Loss: 0.0288\n",
            "Epoch: 16 | Training Loss: 0.0287\n",
            "Epoch: 17 | Training Loss: 0.0286\n",
            "Epoch: 18 | Training Loss: 0.0285\n",
            "Epoch: 19 | Training Loss: 0.0284\n",
            "Epoch: 20 | Training Loss: 0.0284\n"
          ]
        }
      ]
    },
    {
      "cell_type": "code",
      "source": [
        "model.eval()\n",
        "with torch.inference_mode():\n",
        "  # obtain one batch of test images\n",
        "  images, labels = next(iter(test_loader))\n",
        "  # get sample outputs\n",
        "  output = model(images)\n",
        "  # prep images for display\n",
        "  images = images.numpy()\n",
        "  # output is resized into a batch of images\n",
        "  output = output.view(images.size(0), 1, 28, 28)\n",
        "  # use detach when it's an output that requires_grad\n",
        "  output = output.detach().numpy()\n",
        "  # plot the first ten input images and then reconstructed images\n",
        "  fig, axes = plt.subplots(nrows=2, ncols=10, sharex=True, sharey=True, figsize=(25,4))\n",
        "  # input images on top row, reconstructions on bottom\n",
        "  for images, row in zip([images, output], axes):\n",
        "      for img, ax in zip(images, row):\n",
        "          ax.imshow(np.squeeze(img), cmap='gray')\n",
        "          ax.get_xaxis().set_visible(False)\n",
        "          ax.get_yaxis().set_visible(False)"
      ],
      "metadata": {
        "colab": {
          "base_uri": "https://localhost:8080/",
          "height": 135
        },
        "id": "k4vK8ghr1cxY",
        "outputId": "c975d6d9-fa6d-49c1-b526-d20153cdf7c5"
      },
      "execution_count": 33,
      "outputs": [
        {
          "output_type": "display_data",
          "data": {
            "text/plain": [
              "<Figure size 2500x400 with 20 Axes>"
            ],
            "image/png": "[encoded data removed]"
          },
          "metadata": {}
        }
      ]
    },
    {
      "cell_type": "code",
      "source": [],
      "metadata": {
        "id": "NxhcDFGl6zgm"
      },
      "execution_count": null,
      "outputs": []
    }
  ]
}