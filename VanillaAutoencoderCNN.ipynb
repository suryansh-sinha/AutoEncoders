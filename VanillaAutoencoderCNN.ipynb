{
  "cells": [
    {
      "cell_type": "markdown",
      "metadata": {
        "id": "3TqjdKlHZM5j"
      },
      "source": [
        "# Autoencoders Using CNN\n",
        "\n",
        "We're using a convolutional neural network in the encoder and decoder architectures here.\n",
        "\n",
        "## Encoder\n",
        "The encoder architecture has -\n",
        "- Conv2d, ReLU, MaxPool2d --> Output = `[16, 14, 14]`\n",
        "- Conv2d, ReLU, MaxPool2d --> Output = `[32, 6, 6]`\n",
        "- Conv2d --> Output = `[64, 1, 1]`\n",
        "\n",
        "## Latent Space Representation\n",
        "The latent space representation or code has size `[64, 1, 1]` thus representing an image by 64 values.\n",
        "\n",
        "## Decoder\n",
        "The decoder architecture has -\n",
        "- ConvTranspose2d, ReLU --> Output = `[32, 7, 7]`\n",
        "- ConvTranspose2d, ReLU --> Output = `[16, 14, 14]`\n",
        "- ConvTranspose2d, ReLU --> Output = `[1, 28, 28]`"
      ]
    },
    {
      "cell_type": "code",
      "execution_count": 1,
      "metadata": {
        "id": "TOP2Oo1KY5kf"
      },
      "outputs": [
        {
          "name": "stderr",
          "output_type": "stream",
          "text": [
            "/Users/suryanshsinha/Desktop/cDCGAN/.cDCGAN/lib/python3.11/site-packages/tqdm/auto.py:21: TqdmWarning: IProgress not found. Please update jupyter and ipywidgets. See https://ipywidgets.readthedocs.io/en/stable/user_install.html\n",
            "  from .autonotebook import tqdm as notebook_tqdm\n"
          ]
        }
      ],
      "source": [
        "import os\n",
        "import torch\n",
        "import torch.nn as nn\n",
        "from torch.utils.data import DataLoader\n",
        "from torchvision import datasets\n",
        "from torchvision.transforms import v2 as transforms\n",
        "from torchinfo import summary\n",
        "import matplotlib.pyplot as plt\n",
        "from tqdm.auto import tqdm\n",
        "\n",
        "device = 'cuda' if torch.cuda.is_available() else 'cpu'\n",
        "\n",
        "num_workers = os.cpu_count()\n",
        "batch_size = 32\n",
        "\n",
        "# Creating transforms for dataloader.\n",
        "data_transforms = transforms.Compose([\n",
        "    transforms.PILToTensor(),\n",
        "    transforms.ToDtype(torch.float32, scale=True)\n",
        "])\n",
        "\n",
        "# Creating the dataloaders\n",
        "train_data = datasets.MNIST(root='./data', train=True, transform=data_transforms, download=True)\n",
        "train_dataloader = DataLoader(train_data, batch_size=batch_size, shuffle=True, num_workers=num_workers)\n",
        "\n",
        "test_data = datasets.MNIST(root='./data', train=False, transform=data_transforms, download=True)\n",
        "test_dataloader = DataLoader(test_data, batch_size=batch_size, shuffle=False, num_workers=num_workers)"
      ]
    },
    {
      "cell_type": "code",
      "execution_count": 2,
      "metadata": {
        "id": "iIvMQ6YQaS-V"
      },
      "outputs": [],
      "source": [
        "# Creating AutoEncoder\n",
        "class Autoencoder(nn.Module):\n",
        "  def __init__(self):\n",
        "    super().__init__()\n",
        "\n",
        "    # Encoder\n",
        "    self.encoder = nn.Sequential(\n",
        "        nn.Conv2d(1, 16, 3, 1, 1),  # Output --> [16, 28, 28]\n",
        "        nn.ReLU(),\n",
        "        nn.MaxPool2d(kernel_size=(2,2), stride=(2,2)),  # Output --> [16, 14, 14]\n",
        "        nn.Conv2d(16, 32, 3, 1),  # Output --> [32, 12, 12]\n",
        "        nn.ReLU(),\n",
        "        nn.MaxPool2d(kernel_size=(2,2), stride=(2,2)),  # Output --> [32, 6, 6]\n",
        "        nn.Conv2d(32, 64, 6)  # Output --> [64, 1, 1]\n",
        "    )\n",
        "\n",
        "    # Decoder\n",
        "    self.decoder = nn.Sequential(\n",
        "        nn.ConvTranspose2d(64, 32, 7),  # Output --> [32, 7, 7]\n",
        "        nn.ReLU(),\n",
        "        nn.ConvTranspose2d(32, 16, 3, 2, 1, output_padding=1),  # Output --> [16, 14, 14]\n",
        "        nn.ReLU(),\n",
        "        nn.ConvTranspose2d(16, 1, 3, 2, 1, output_padding=1), # Output --> [1, 28, 28]\n",
        "        nn.Sigmoid()\n",
        "    )\n",
        "\n",
        "  def forward(self, x):\n",
        "    return self.decoder(self.encoder(x))"
      ]
    },
    {
      "cell_type": "code",
      "execution_count": 3,
      "metadata": {
        "colab": {
          "base_uri": "https://localhost:8080/"
        },
        "id": "NpQigpjVa7Z7",
        "outputId": "334da0eb-48a8-41dd-df8a-c45077c9b4a9"
      },
      "outputs": [
        {
          "data": {
            "text/plain": [
              "==========================================================================================\n",
              "Layer (type:depth-idx)                   Output Shape              Param #\n",
              "==========================================================================================\n",
              "Autoencoder                              [1, 28, 28]               --\n",
              "├─Sequential: 1-1                        [64, 1, 1]                --\n",
              "│    └─Conv2d: 2-1                       [16, 28, 28]              160\n",
              "│    └─ReLU: 2-2                         [16, 28, 28]              --\n",
              "│    └─MaxPool2d: 2-3                    [16, 14, 14]              --\n",
              "│    └─Conv2d: 2-4                       [32, 12, 12]              4,640\n",
              "│    └─ReLU: 2-5                         [32, 12, 12]              --\n",
              "│    └─MaxPool2d: 2-6                    [32, 6, 6]                --\n",
              "│    └─Conv2d: 2-7                       [64, 1, 1]                73,792\n",
              "├─Sequential: 1-2                        [1, 28, 28]               --\n",
              "│    └─ConvTranspose2d: 2-8              [32, 7, 7]                100,384\n",
              "│    └─ReLU: 2-9                         [32, 7, 7]                --\n",
              "│    └─ConvTranspose2d: 2-10             [16, 14, 14]              4,624\n",
              "│    └─ReLU: 2-11                        [16, 14, 14]              --\n",
              "│    └─ConvTranspose2d: 2-12             [1, 28, 28]               145\n",
              "│    └─Sigmoid: 2-13                     [1, 28, 28]               --\n",
              "==========================================================================================\n",
              "Total params: 183,745\n",
              "Trainable params: 183,745\n",
              "Non-trainable params: 0\n",
              "Total mult-adds (Units.MEGABYTES): 30.10\n",
              "==========================================================================================\n",
              "Input size (MB): 0.00\n",
              "Forward/backward pass size (MB): 0.18\n",
              "Params size (MB): 0.73\n",
              "Estimated Total Size (MB): 0.92\n",
              "=========================================================================================="
            ]
          },
          "execution_count": 3,
          "metadata": {},
          "output_type": "execute_result"
        }
      ],
      "source": [
        "model = Autoencoder().to(device)\n",
        "summary(model, (1, 28, 28))"
      ]
    },
    {
      "cell_type": "code",
      "execution_count": 4,
      "metadata": {
        "id": "id5oLUx7fFgq"
      },
      "outputs": [],
      "source": [
        "# Defining loss and optimizer\n",
        "loss_fn = nn.MSELoss()\n",
        "optimizer = torch.optim.Adam(model.parameters(), lr=0.001, weight_decay=1e-5)"
      ]
    },
    {
      "cell_type": "code",
      "execution_count": 5,
      "metadata": {
        "colab": {
          "base_uri": "https://localhost:8080/"
        },
        "id": "2ZOQ_y8Sfbdv",
        "outputId": "f817ee6b-6c0f-4a88-ee8f-dae48f1dc3c5"
      },
      "outputs": [
        {
          "name": "stderr",
          "output_type": "stream",
          "text": [
            "  0%|          | 0/1875 [00:00<?, ?it/s]"
          ]
        },
        {
          "name": "stderr",
          "output_type": "stream",
          "text": [
            "100%|██████████| 1875/1875 [00:40<00:00, 46.05it/s]\n"
          ]
        },
        {
          "name": "stdout",
          "output_type": "stream",
          "text": [
            "Epoch: [1/10] | Loss: 0.8253\n"
          ]
        },
        {
          "name": "stderr",
          "output_type": "stream",
          "text": [
            "100%|██████████| 1875/1875 [00:39<00:00, 47.31it/s]\n"
          ]
        },
        {
          "name": "stdout",
          "output_type": "stream",
          "text": [
            "Epoch: [2/10] | Loss: 0.2214\n"
          ]
        },
        {
          "name": "stderr",
          "output_type": "stream",
          "text": [
            "100%|██████████| 1875/1875 [00:39<00:00, 47.09it/s]\n"
          ]
        },
        {
          "name": "stdout",
          "output_type": "stream",
          "text": [
            "Epoch: [3/10] | Loss: 0.1678\n"
          ]
        },
        {
          "name": "stderr",
          "output_type": "stream",
          "text": [
            "100%|██████████| 1875/1875 [00:39<00:00, 47.52it/s]\n"
          ]
        },
        {
          "name": "stdout",
          "output_type": "stream",
          "text": [
            "Epoch: [4/10] | Loss: 0.1425\n"
          ]
        },
        {
          "name": "stderr",
          "output_type": "stream",
          "text": [
            "100%|██████████| 1875/1875 [00:39<00:00, 47.74it/s]\n"
          ]
        },
        {
          "name": "stdout",
          "output_type": "stream",
          "text": [
            "Epoch: [5/10] | Loss: 0.1285\n"
          ]
        },
        {
          "name": "stderr",
          "output_type": "stream",
          "text": [
            "100%|██████████| 1875/1875 [00:39<00:00, 47.17it/s]\n"
          ]
        },
        {
          "name": "stdout",
          "output_type": "stream",
          "text": [
            "Epoch: [6/10] | Loss: 0.1198\n"
          ]
        },
        {
          "name": "stderr",
          "output_type": "stream",
          "text": [
            "100%|██████████| 1875/1875 [00:40<00:00, 46.84it/s]\n"
          ]
        },
        {
          "name": "stdout",
          "output_type": "stream",
          "text": [
            "Epoch: [7/10] | Loss: 0.1140\n"
          ]
        },
        {
          "name": "stderr",
          "output_type": "stream",
          "text": [
            "100%|██████████| 1875/1875 [00:39<00:00, 47.34it/s]\n"
          ]
        },
        {
          "name": "stdout",
          "output_type": "stream",
          "text": [
            "Epoch: [8/10] | Loss: 0.1099\n"
          ]
        },
        {
          "name": "stderr",
          "output_type": "stream",
          "text": [
            "100%|██████████| 1875/1875 [00:39<00:00, 47.13it/s]\n"
          ]
        },
        {
          "name": "stdout",
          "output_type": "stream",
          "text": [
            "Epoch: [9/10] | Loss: 0.1075\n"
          ]
        },
        {
          "name": "stderr",
          "output_type": "stream",
          "text": [
            "100%|██████████| 1875/1875 [00:39<00:00, 47.28it/s]\n"
          ]
        },
        {
          "name": "stdout",
          "output_type": "stream",
          "text": [
            "Epoch: [10/10] | Loss: 0.1052\n"
          ]
        }
      ],
      "source": [
        "# Training\n",
        "n_epochs = 10\n",
        "for epoch in range(n_epochs):\n",
        "\n",
        "  train_loss = 0\n",
        "\n",
        "  for img, _ in tqdm(train_dataloader):\n",
        "    # Move image to target device\n",
        "    img = img.to(device)\n",
        "    \n",
        "    # Get reconstructed image\n",
        "    output_img = model(img)\n",
        "    \n",
        "    # Calculate reconstruction loss\n",
        "    loss = loss_fn(output_img, img)\n",
        "    \n",
        "    # Update weights\n",
        "    optimizer.zero_grad()\n",
        "    loss.backward()\n",
        "    optimizer.step()\n",
        "    \n",
        "    # Accumulate loss which is to be averaged later.\n",
        "    train_loss += loss.item()*img.size(0)\n",
        "\n",
        "  # Average loss per batch\n",
        "  train_loss /= len(train_dataloader)\n",
        "  print('Epoch: [{}/{}] | Loss: {:.4f}'.format(epoch+1, n_epochs, train_loss))"
      ]
    },
    {
      "cell_type": "code",
      "execution_count": 6,
      "metadata": {
        "id": "XuwJFLD5gXKR"
      },
      "outputs": [],
      "source": [
        "def show_result(dataloader):\n",
        "  img, _ = next(iter(dataloader))\n",
        "\n",
        "  # Moving images to target device\n",
        "  img = img.to(device)\n",
        "  \n",
        "  # Plot original images\n",
        "  plt.figure(figsize=(9, 3))\n",
        "  for i in range(0, 9):\n",
        "    plt.subplot(2, 9, i+1)\n",
        "    image = img[i].cpu().permute(1, 2, 0)\n",
        "    plt.imshow(image, cmap='gray')\n",
        "    plt.axis(False)\n",
        "  plt.suptitle(f\"Original Images\", fontsize=20)\n",
        "\n",
        "  # Get the output from model and plot reconstructed images\n",
        "  model.eval()\n",
        "  with torch.inference_mode():\n",
        "    plt.figure(figsize=(9, 3))\n",
        "    output = model(img)\n",
        "    for i in range(0, 9):\n",
        "      plt.subplot(2, 9, i+1)\n",
        "      image = output[i].cpu().permute(1, 2, 0)\n",
        "      plt.imshow(image, cmap='gray')\n",
        "      plt.axis(False)\n",
        "    plt.suptitle(\"Reconstructed Images\", fontsize=20)"
      ]
    },
    {
      "cell_type": "code",
      "execution_count": 7,
      "metadata": {
        "colab": {
          "base_uri": "https://localhost:8080/",
          "height": 371
        },
        "id": "3SBtVvc-iSdK",
        "outputId": "291c610d-3267-4446-ad04-1cbf5794c500"
      },
      "outputs": [
        {
          "data": {
            "image/png": "[encoded data removed]",
            "text/plain": [
              "<Figure size 900x300 with 9 Axes>"
            ]
          },
          "metadata": {},
          "output_type": "display_data"
        },
        {
          "data": {
            "image/png": "[encoded data removed]",
            "text/plain": [
              "<Figure size 900x300 with 9 Axes>"
            ]
          },
          "metadata": {},
          "output_type": "display_data"
        }
      ],
      "source": [
        "show_result(test_dataloader)"
      ]
    }
  ],
  "metadata": {
    "colab": {
      "provenance": []
    },
    "kernelspec": {
      "display_name": "Python 3",
      "name": "python3"
    },
    "language_info": {
      "codemirror_mode": {
        "name": "ipython",
        "version": 3
      },
      "file_extension": ".py",
      "mimetype": "text/x-python",
      "name": "python",
      "nbconvert_exporter": "python",
      "pygments_lexer": "ipython3",
      "version": "3.11.8"
    }
  },
  "nbformat": 4,
  "nbformat_minor": 0
}
